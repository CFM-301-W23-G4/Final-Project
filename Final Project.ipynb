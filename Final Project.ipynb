{
 "cells": [
  {
   "cell_type": "markdown",
   "id": "8c2d22c5-b0fc-4224-bb57-fa53d02645e0",
   "metadata": {},
   "source": [
    "# Final Project\n",
    "\n",
    "- Saige Belanger\n",
    "    - (20951877)\n",
    "- Dylan Faelker\n",
    "    - (20960747)\n",
    "- Ethan Liu\n",
    "    - (20959615)\n",
    "- Timothy Zheng\n",
    "    - t54zheng (20939203)"
   ]
  },
  {
   "cell_type": "code",
   "execution_count": 1,
   "id": "a767efc0-9a47-44d1-ae2d-c456c8bb3633",
   "metadata": {},
   "outputs": [],
   "source": [
    "import pandas as pd\n",
    "from pandasql import sqldf\n",
    "import matplotlib.pyplot as plt\n",
    "import numpy as np\n",
    "import warnings\n",
    "from sklearn import linear_model\n",
    "import statsmodels.api as sm\n",
    "import scipy.stats as stats\n",
    "from math import sqrt\n",
    "\n",
    "warnings.filterwarnings('ignore')"
   ]
  },
  {
   "cell_type": "code",
   "execution_count": null,
   "id": "90a6064f-41e3-4438-bcfc-cfeb433bea14",
   "metadata": {},
   "outputs": [],
   "source": []
  }
 ],
 "metadata": {
  "kernelspec": {
   "display_name": "Python 3 (ipykernel)",
   "language": "python",
   "name": "python3"
  },
  "language_info": {
   "codemirror_mode": {
    "name": "ipython",
    "version": 3
   },
   "file_extension": ".py",
   "mimetype": "text/x-python",
   "name": "python",
   "nbconvert_exporter": "python",
   "pygments_lexer": "ipython3",
   "version": "3.8.18"
  }
 },
 "nbformat": 4,
 "nbformat_minor": 5
}
